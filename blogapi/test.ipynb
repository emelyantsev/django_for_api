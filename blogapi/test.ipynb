{
 "cells": [
  {
   "cell_type": "code",
   "execution_count": 1,
   "metadata": {},
   "outputs": [],
   "source": [
    "import requests"
   ]
  },
  {
   "cell_type": "code",
   "execution_count": 5,
   "metadata": {},
   "outputs": [],
   "source": [
    "r = requests.get(\"http://127.0.0.1:8000/api/v1/\")"
   ]
  },
  {
   "cell_type": "code",
   "execution_count": 6,
   "metadata": {},
   "outputs": [
    {
     "data": {
      "text/plain": [
       "<Response [403]>"
      ]
     },
     "execution_count": 6,
     "metadata": {},
     "output_type": "execute_result"
    }
   ],
   "source": [
    "r"
   ]
  },
  {
   "cell_type": "code",
   "execution_count": 42,
   "metadata": {},
   "outputs": [],
   "source": [
    "#token = 'c0d9507525096c74312167e67925e990003616f3' # testuser2\n",
    "\n",
    "token = 'f0c20fc4ea82b2746e1a6ee67e1d07e29a63d757'\n"
   ]
  },
  {
   "cell_type": "code",
   "execution_count": 43,
   "metadata": {},
   "outputs": [],
   "source": [
    "r1 = requests.get(\"http://127.0.0.1:8000/api/v1/\" ,\n",
    "                 headers={'Authorization': f'Token {token}'})"
   ]
  },
  {
   "cell_type": "code",
   "execution_count": null,
   "metadata": {},
   "outputs": [],
   "source": []
  },
  {
   "cell_type": "code",
   "execution_count": 44,
   "metadata": {},
   "outputs": [
    {
     "data": {
      "text/plain": [
       "<Response [200]>"
      ]
     },
     "execution_count": 44,
     "metadata": {},
     "output_type": "execute_result"
    }
   ],
   "source": [
    "r1"
   ]
  },
  {
   "cell_type": "code",
   "execution_count": 45,
   "metadata": {},
   "outputs": [
    {
     "name": "stdout",
     "output_type": "stream",
     "text": [
      "[{\"id\":1,\"author\":1,\"title\":\"Sad post\",\"body\":\"A very, very sad post. Please, don't smile.\",\"created_at\":\"2020-10-16T08:48:15.677372Z\"},{\"id\":3,\"author\":2,\"title\":\"Funny post\",\"body\":\"This post is very funny. Jokes, smiles are acceptable.\",\"created_at\":\"2020-10-19T08:09:02.854849Z\"},{\"id\":4,\"author\":3,\"title\":\"Indifferent post 608\",\"body\":\"This post is neither sad, not funny. 23\",\"created_at\":\"2020-10-19T08:37:43.644232Z\"}]\n"
     ]
    }
   ],
   "source": [
    "print(r1.text)"
   ]
  },
  {
   "cell_type": "code",
   "execution_count": 46,
   "metadata": {},
   "outputs": [
    {
     "name": "stdout",
     "output_type": "stream",
     "text": [
      "[{'id': 1, 'author': 1, 'title': 'Sad post', 'body': \"A very, very sad post. Please, don't smile.\", 'created_at': '2020-10-16T08:48:15.677372Z'}, {'id': 3, 'author': 2, 'title': 'Funny post', 'body': 'This post is very funny. Jokes, smiles are acceptable.', 'created_at': '2020-10-19T08:09:02.854849Z'}, {'id': 4, 'author': 3, 'title': 'Indifferent post 608', 'body': 'This post is neither sad, not funny. 23', 'created_at': '2020-10-19T08:37:43.644232Z'}]\n"
     ]
    }
   ],
   "source": [
    "print(r1.json())"
   ]
  },
  {
   "cell_type": "code",
   "execution_count": 47,
   "metadata": {},
   "outputs": [
    {
     "data": {
      "text/plain": [
       "{'Date': 'Mon, 19 Oct 2020 09:01:14 GMT', 'Server': 'WSGIServer/0.2 CPython/3.6.9', 'Content-Type': 'application/json', 'Vary': 'Accept, Cookie', 'Allow': 'GET, POST, HEAD, OPTIONS', 'X-Frame-Options': 'DENY', 'Content-Length': '427', 'X-Content-Type-Options': 'nosniff'}"
      ]
     },
     "execution_count": 47,
     "metadata": {},
     "output_type": "execute_result"
    }
   ],
   "source": [
    "r1.headers"
   ]
  },
  {
   "cell_type": "code",
   "execution_count": null,
   "metadata": {},
   "outputs": [],
   "source": []
  },
  {
   "cell_type": "code",
   "execution_count": null,
   "metadata": {},
   "outputs": [],
   "source": []
  },
  {
   "cell_type": "code",
   "execution_count": 48,
   "metadata": {},
   "outputs": [],
   "source": [
    "r2 = requests.get(\"http://127.0.0.1:8000/api/v1/4/\" ,\n",
    "                 headers={'Authorization': f'Token {token}'},\n",
    "                 )"
   ]
  },
  {
   "cell_type": "code",
   "execution_count": 49,
   "metadata": {},
   "outputs": [
    {
     "data": {
      "text/plain": [
       "<Response [200]>"
      ]
     },
     "execution_count": 49,
     "metadata": {},
     "output_type": "execute_result"
    }
   ],
   "source": [
    "r2"
   ]
  },
  {
   "cell_type": "code",
   "execution_count": 50,
   "metadata": {},
   "outputs": [
    {
     "data": {
      "text/plain": [
       "'{\"id\":4,\"author\":3,\"title\":\"Indifferent post 608\",\"body\":\"This post is neither sad, not funny. 23\",\"created_at\":\"2020-10-19T08:37:43.644232Z\"}'"
      ]
     },
     "execution_count": 50,
     "metadata": {},
     "output_type": "execute_result"
    }
   ],
   "source": [
    "r2.text"
   ]
  },
  {
   "cell_type": "code",
   "execution_count": 51,
   "metadata": {},
   "outputs": [
    {
     "data": {
      "text/plain": [
       "{'Date': 'Mon, 19 Oct 2020 09:01:23 GMT', 'Server': 'WSGIServer/0.2 CPython/3.6.9', 'Content-Type': 'application/json', 'Vary': 'Accept, Cookie', 'Allow': 'GET, PUT, PATCH, DELETE, HEAD, OPTIONS', 'X-Frame-Options': 'DENY', 'Content-Length': '142', 'X-Content-Type-Options': 'nosniff'}"
      ]
     },
     "execution_count": 51,
     "metadata": {},
     "output_type": "execute_result"
    }
   ],
   "source": [
    "r2.headers"
   ]
  },
  {
   "cell_type": "code",
   "execution_count": null,
   "metadata": {},
   "outputs": [],
   "source": []
  },
  {
   "cell_type": "code",
   "execution_count": null,
   "metadata": {},
   "outputs": [],
   "source": []
  },
  {
   "cell_type": "code",
   "execution_count": 52,
   "metadata": {},
   "outputs": [],
   "source": [
    "r3 = requests.put(\"http://127.0.0.1:8000/api/v1/4/\" ,\n",
    "                 headers={'Authorization': f'Token {token}'},\n",
    "                 json={\n",
    "                    #\"id\": 4,\n",
    "                    \"author\": 3,\n",
    "                    \"title\": \"Indifferent post 7779\",\n",
    "                    \"body\": \"This post is neither sad, not funny. 23\",\n",
    "                    #\"created_at\": \"2020-10-19T08:37:43.644232Z\"\n",
    "                }\n",
    "                 )"
   ]
  },
  {
   "cell_type": "code",
   "execution_count": 53,
   "metadata": {},
   "outputs": [
    {
     "data": {
      "text/plain": [
       "<Response [403]>"
      ]
     },
     "execution_count": 53,
     "metadata": {},
     "output_type": "execute_result"
    }
   ],
   "source": [
    "r3"
   ]
  },
  {
   "cell_type": "code",
   "execution_count": 54,
   "metadata": {},
   "outputs": [
    {
     "data": {
      "text/plain": [
       "{'Date': 'Mon, 19 Oct 2020 09:01:58 GMT', 'Server': 'WSGIServer/0.2 CPython/3.6.9', 'Content-Type': 'application/json', 'Vary': 'Accept, Cookie', 'Allow': 'GET, PUT, PATCH, DELETE, HEAD, OPTIONS', 'X-Frame-Options': 'DENY', 'Content-Length': '63', 'X-Content-Type-Options': 'nosniff'}"
      ]
     },
     "execution_count": 54,
     "metadata": {},
     "output_type": "execute_result"
    }
   ],
   "source": [
    "r3.headers"
   ]
  },
  {
   "cell_type": "code",
   "execution_count": null,
   "metadata": {},
   "outputs": [],
   "source": []
  },
  {
   "cell_type": "code",
   "execution_count": null,
   "metadata": {},
   "outputs": [],
   "source": []
  },
  {
   "cell_type": "code",
   "execution_count": null,
   "metadata": {},
   "outputs": [],
   "source": []
  },
  {
   "cell_type": "code",
   "execution_count": null,
   "metadata": {},
   "outputs": [],
   "source": []
  }
 ],
 "metadata": {
  "kernelspec": {
   "display_name": "Python 3",
   "language": "python",
   "name": "python3"
  },
  "language_info": {
   "codemirror_mode": {
    "name": "ipython",
    "version": 3
   },
   "file_extension": ".py",
   "mimetype": "text/x-python",
   "name": "python",
   "nbconvert_exporter": "python",
   "pygments_lexer": "ipython3",
   "version": "3.6.9"
  }
 },
 "nbformat": 4,
 "nbformat_minor": 4
}
